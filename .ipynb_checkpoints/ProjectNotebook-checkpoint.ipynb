{
 "cells": [
  {
   "cell_type": "markdown",
   "id": "73607d1d",
   "metadata": {},
   "source": [
    "# Project Description\n",
    "\n",
    "Our goal for this project is to create a program that synthesizes and graphs biological data to model how COVID-19 death rates compare between liberal and conservative states over the span of a year. During the COVID-19 pandemic, all of our team members noticed that there was a lot of political discussion over handling the spread of the coronavirus. As qualified voters ourselves, we recognize that the political split between Democratic states and Republican states creates a divide in opinions regarding many national issues, especially pandemic response efforts. For example, some states imposed more restrictions such as masking mandates, stay-at-home orders, and vaccine mandates while other states chose to take more lenient approaches to please the majority in the dominant party. Each state’s plans affected their death rates differently. Due to this, it took each state varying time and effort to open up its economy. We hypothesize that the different measures each state took determined whether certain states performed better in economic recovery and health outcomes. In order to test our hypothesis and satisfy our curiosity, we decided to use a dataset that includes the number of deaths every day in the month from March 2020 to March 2021 in each of the 50 states.\n",
    "\n",
    "## Team Member Names and Contributions\n",
    "Team Members: Annie Hoang, YingLin Zhu, and Jose Falconi-cavallini\n",
    "\n",
    "See PDF Notebook for specific contributions."
   ]
  },
  {
   "cell_type": "code",
   "execution_count": 4,
   "id": "6886359c",
   "metadata": {},
   "outputs": [],
   "source": [
    "import numpy as np\n",
    "import matplotlib as pyplot"
   ]
  },
  {
   "cell_type": "code",
   "execution_count": 24,
   "id": "721df0a1",
   "metadata": {},
   "outputs": [],
   "source": [
    "\"\"\"\n",
    "Function Name: readFile\n",
    "input: fileName - path to file\n",
    "output: data_list - a list of all the data except the header\n",
    "\"\"\"\n",
    "def readFile(fileName):\n",
    "    data = np.loadtxt(fileName,delimiter=',',dtype=str)\n",
    "    data_list = []\n",
    "    for i in range(1, len(data)):\n",
    "        item = data[i]\n",
    "        data_list.append(item)\n",
    "    return data_list\n",
    "\n",
    "\n",
    "\"\"\"\n",
    "Function Name: simplifyData\n",
    "input: data - country data with no header\n",
    "output: reduced_data - simplified with only date, deaths, deathsIncrease\n",
    "\"\"\"\n",
    "def simplifyData(data):\n",
    "    reduced_data = []\n",
    "    for item in data:\n",
    "        reduced_data.append([item[0],item[2],item[4]])\n",
    "    return reduced_data\n",
    "\n",
    "\n",
    "\"\"\"\n",
    "Function Name: sortData\n",
    "input: data - reduced data with Dates, deaths, deathsIncrease\n",
    "output: sorted_data - data sorted from 2020 to 2021\n",
    "\"\"\"\n",
    "def sortData(data):\n",
    "    "
   ]
  },
  {
   "cell_type": "code",
   "execution_count": 26,
   "id": "1fd816d3",
   "metadata": {},
   "outputs": [
    {
     "name": "stdout",
     "output_type": "stream",
     "text": [
      "[['\"2021-03-07\"', '54124', '258'], ['\"2021-03-06\"', '53866', '418'], ['\"2021-03-05\"', '53448', '400'], ['\"2021-03-04\"', '53048', '273'], ['\"2021-03-03\"', '52775', '278'], ['\"2021-03-02\"', '52497', '303'], ['\"2021-03-01\"', '52194', '215'], ['\"2021-02-28\"', '51979', '158'], ['\"2021-02-27\"', '51821', '439'], ['\"2021-02-26\"', '51382', '391']]\n"
     ]
    }
   ],
   "source": [
    "CA_Data = readFile(\"./states/california-history.csv\")\n",
    "print(simplifyData(CA_Data)[:10])"
   ]
  },
  {
   "cell_type": "markdown",
   "id": "c8040cd6",
   "metadata": {},
   "source": [
    "## Calculating the Average Death Rate Per Month"
   ]
  },
  {
   "cell_type": "code",
   "execution_count": null,
   "id": "7a08bbd9",
   "metadata": {},
   "outputs": [],
   "source": [
    "Code\n"
   ]
  },
  {
   "cell_type": "markdown",
   "id": "611de7a0",
   "metadata": {},
   "source": [
    "## Calculating Number of Deaths Per Million"
   ]
  },
  {
   "cell_type": "code",
   "execution_count": null,
   "id": "3ab07d0f",
   "metadata": {},
   "outputs": [],
   "source": []
  },
  {
   "cell_type": "markdown",
   "id": "162fbf48",
   "metadata": {},
   "source": [
    "## Graphs of Deaths Per Million"
   ]
  },
  {
   "cell_type": "code",
   "execution_count": null,
   "id": "9ebee2c2",
   "metadata": {},
   "outputs": [],
   "source": []
  },
  {
   "cell_type": "markdown",
   "id": "7d3d3349",
   "metadata": {},
   "source": [
    "## Average Death Rate For Red vs Blue States"
   ]
  },
  {
   "cell_type": "code",
   "execution_count": null,
   "id": "a361d77c",
   "metadata": {},
   "outputs": [],
   "source": []
  },
  {
   "cell_type": "markdown",
   "id": "3beedd16",
   "metadata": {},
   "source": []
  }
 ],
 "metadata": {
  "kernelspec": {
   "display_name": "Python 3 (clean)",
   "language": "python",
   "name": "python3_clean"
  },
  "language_info": {
   "codemirror_mode": {
    "name": "ipython",
    "version": 3
   },
   "file_extension": ".py",
   "mimetype": "text/x-python",
   "name": "python",
   "nbconvert_exporter": "python",
   "pygments_lexer": "ipython3",
   "version": "3.9.5"
  }
 },
 "nbformat": 4,
 "nbformat_minor": 5
}
